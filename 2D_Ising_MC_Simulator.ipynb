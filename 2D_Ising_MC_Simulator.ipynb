{
 "cells": [
  {
   "cell_type": "markdown",
   "metadata": {},
   "source": [
    "## 2D Ising Model Monte Carlo Simulation\n",
    "\n",
    "With code from Lauren Hayward Sierens/PSI, Juan Carrasquilla, Estelle Inack, Giacomo Torlai, and Roger Melko. Adapted from Machine Learning in Condensed Matter Physics 2019, University of the Basque Country Summer Course\n",
    "\n",
    "Our aim is to study the phase transitions in the 2D Ising model\n",
    "\n",
    "$$\n",
    "H_{\\text{Ising}}=-J\\sum_{\\langle ij\\rangle}\\sigma_{i}\\sigma_{j},\n",
    "$$\n",
    "\n",
    "where $\\sigma_{i}=\\pm1$, $J$ is the exchange constant and the sum runs over all nearest neighbors. We resort to using a square lattice with periodic boundary conditions. \n",
    "\n",
    "The below code implements Monte Carlo (MC) methods that estimate $T_{C}$ by calculating relevant observables\n",
    "\n",
    "The main purpose of this code is to generate the necessary training data (i.e. spin configurations $\\cal{D}=\\{{\\bf{x}}_{l}\\}_{l=1}^{\\cal{N}}$) that will then be fed into the notebook `2D_Ising_RBM.ipynb` in order to train a Restricted Boltzmann Machine (RBM), a type of neural network, to learn the distribution of spin configurations of the 2D Ising model at a given temperature.\n",
    "\n",
    "The set of spin configurations $\\cal{D}$ is not random, but should be produced via importance sampling, i.e. Markov chain MC, as we'll do below."
   ]
  },
  {
   "cell_type": "code",
   "execution_count": 3,
   "metadata": {},
   "outputs": [],
   "source": [
    "import matplotlib.pyplot as plt\n",
    "import matplotlib.colors as colors\n",
    "import numpy as np\n",
    "import os\n",
    "import random\n",
    "import time"
   ]
  },
  {
   "cell_type": "markdown",
   "metadata": {},
   "source": [
    "Initially, choose to work with an $N=4\\times4=16$ site system. This can be changed to accomodate larger system sizes."
   ]
  },
  {
   "cell_type": "code",
   "execution_count": 2,
   "metadata": {},
   "outputs": [],
   "source": [
    "### Input parameters: ###\n",
    "T_list = np.linspace(5.0,0.5,10) #temperature list\n",
    "L = 4                            #linear size of the lattice\n",
    "N_spins = L**2                   #total number of spins\n",
    "J = 1                            #coupling parameter"
   ]
  },
  {
   "cell_type": "markdown",
   "metadata": {},
   "source": [
    "We know that in the thermodynamic limit, the critical temperature is $T_{C}\\approx2.269$."
   ]
  },
  {
   "cell_type": "code",
   "execution_count": 3,
   "metadata": {},
   "outputs": [],
   "source": [
    "### Critical temperature: ###\n",
    "Tc = 2.0/np.log(1.0 + np.sqrt(2))*J  #T/J ~ 2.269"
   ]
  },
  {
   "cell_type": "markdown",
   "metadata": {},
   "source": [
    "Setting thermalization and measurement MC sweep parameters"
   ]
  },
  {
   "cell_type": "code",
   "execution_count": 4,
   "metadata": {},
   "outputs": [],
   "source": [
    "## Monte Carlo parameters: ###\n",
    "n_eqSweeps = 1000   #number of equilibration sweeps\n",
    "n_measSweeps = 10000  #number of measurement sweeps"
   ]
  },
  {
   "cell_type": "markdown",
   "metadata": {},
   "source": [
    "Optional annimation settings (Default is off, i.e. commented out)"
   ]
  },
  {
   "cell_type": "code",
   "execution_count": 5,
   "metadata": {},
   "outputs": [],
   "source": [
    "### Parameters needed to show animation of spin configurations: ###\n",
    "animate = True\n",
    "bw_cmap = colors.ListedColormap(['black', 'white'])"
   ]
  },
  {
   "cell_type": "markdown",
   "metadata": {},
   "source": [
    "A local directory is created to store the Energy and Magnetization that will be calculated corresponding to a configuration of spins for a given measurement sweep."
   ]
  },
  {
   "cell_type": "code",
   "execution_count": 6,
   "metadata": {},
   "outputs": [],
   "source": [
    "### Create a directory where measured observables will be stored: ###\n",
    "results_dir = 'Data'\n",
    "if not(os.path.isdir(results_dir)):\n",
    "    os.mkdir(results_dir)"
   ]
  },
  {
   "cell_type": "markdown",
   "metadata": {},
   "source": [
    "We initialize the spins to a random configuration for the first MC sweep.\n",
    "\n",
    "e.g. ${\\bf{x}}_{1}=(1,0,1,1,1,0,0,1,0,0,1,0,0,1,1,1)$,\n",
    "\n",
    "where the place order gives us information on the site location for a given Ising spin value. "
   ]
  },
  {
   "cell_type": "code",
   "execution_count": 7,
   "metadata": {},
   "outputs": [],
   "source": [
    "### Initially, the spins are in a random state (a high-T phase): ###\n",
    "spins = np.zeros(N_spins,dtype=np.int)\n",
    "for i in range(N_spins):\n",
    "    spins[i] = 2*random.randint(0,1) - 1 #either +1 or -1\n"
   ]
  },
  {
   "cell_type": "markdown",
   "metadata": {},
   "source": [
    "A means of obtaining the Ising spin value corresponding to the four nearest neighbors for a given site, given periodic boundary conditions."
   ]
  },
  {
   "cell_type": "code",
   "execution_count": 8,
   "metadata": {},
   "outputs": [],
   "source": [
    "### Store each spin's four nearest neighbours in a neighbours array (using periodic boundary conditions): ###\n",
    "neighbours = np.zeros((N_spins,4),dtype=np.int)\n",
    "for i in range(N_spins):\n",
    "    #neighbour to the right:\n",
    "    neighbours[i,0]=i+1\n",
    "    if i%L==(L-1):\n",
    "        neighbours[i,0]=i+1-L\n",
    "\n",
    "    #upwards neighbour:\n",
    "    neighbours[i,1]=i+L\n",
    "    if i >= (N_spins-L):\n",
    "        neighbours[i,1]=i+L-N_spins\n",
    "\n",
    "    #neighbour to the left:\n",
    "    neighbours[i,2]=i-1\n",
    "    if i%L==0:\n",
    "        neighbours[i,2]=i-1+L\n",
    "\n",
    "    #downwards neighbour:\n",
    "    neighbours[i,3]=i-L\n",
    "    if i <= L:\n",
    "        neighbours[i,3]=i-L+N_spins"
   ]
  },
  {
   "cell_type": "markdown",
   "metadata": {},
   "source": [
    "Functions that calculate the Energy and magnetization for a given configuration of spins.\n",
    "\n",
    "The Energy is calcuated according to the form of the Ising Hamiltonian shown above. \n",
    "\n",
    "The Magnetization is just $M = \\sum_{i}\\sigma_{i}$."
   ]
  },
  {
   "cell_type": "code",
   "execution_count": 9,
   "metadata": {},
   "outputs": [],
   "source": [
    "### Function to calculate the total energy ###\n",
    "def getEnergy():\n",
    "    currEnergy = 0\n",
    "    for i in range(N_spins):\n",
    "        currEnergy += -J*( spins[i]*spins[neighbours[i,0]] + spins[i]*spins[neighbours[i,1]] )\n",
    "    return currEnergy\n",
    "#end of getEnergy() function\n",
    "\n",
    "\n",
    "\n",
    "### Function to calculate the total magnetization ###\n",
    "def getMag():\n",
    "    return np.sum(spins)\n",
    "#end of getMag() function"
   ]
  },
  {
   "cell_type": "markdown",
   "metadata": {},
   "source": [
    "A function that performs a single MC sweep. Beginning with an initial spin configuration ${\\bf{x}}_{1}$, we obtain the remainder of the set $\\cal{D}$ via a transition probability $T$ such that\n",
    "\n",
    "$$\n",
    "T({\\bf{x}}_{l}\\rightarrow{\\bf{x}}_{l+1})\\geq0\\qquad\\text{and}\\qquad\\sum_{m}T({\\bf{x}}_{l}\\rightarrow{\\bf{x}}_{m})=1.\n",
    "$$\n",
    "\n",
    "which satisfies both detailed balance and ergodicity.\n",
    "\n",
    "i.e. to ensure that we are sampling from the correct probability distribution $P({\\bf{x}})$ (where $\\mathbb{E}[\\cal{O}]=\\langle\\cal{O}\\rangle=\\frac{1}{\\cal{Z}}\\langle\\psi|\\hat{\\cal{O}}|\\psi\\rangle=\\sum_{{\\bf{x}}}P({\\bf{x}})\\cal{O}_{{\\bf{x}}})$, \n",
    "\n",
    "$$\n",
    "P({\\bf{x}}_{l})T({\\bf{x}}_{l}\\rightarrow{\\bf{x}}_{l+1})=P({\\bf{x}}_{l+1})T({\\bf{x}}_{l+1}\\rightarrow{\\bf{x}}_{l})\n",
    "$$\n",
    "or\n",
    "$$\n",
    "\\frac{T({\\bf{x}}_{l}\\rightarrow{\\bf{x}}_{l+1})}{T({\\bf{x}}_{l+1}\\rightarrow{\\bf{x}}_{l})}=\\frac{P({\\bf{x}}_{l+1})}{P({\\bf{x}}_{l})}.\n",
    "$$\n",
    "\n",
    "To achieve this we start by splitting the transition probability, $T$, into two parts: a selection probability, $g$, and an acceptance ratio, $A$, as follows\n",
    "\n",
    "$$\n",
    "T({\\bf{x}}_{l}\\rightarrow{\\bf{x}}_{l+1})=g({\\bf{x}}_{l}\\rightarrow{\\bf{x}}_{l+1})A({\\bf{x}}_{l}\\rightarrow{\\bf{x}}_{l+1}),\n",
    "$$\n",
    "\n",
    "and propose as an update to a given spin configuration: $x_{i}\\rightarrow-x_{i}$ (where $x_{i}\\in{\\bf{x}}_{l}$, for $1\\leq i\\leq N$).\n",
    "\n",
    "Then the selection probability $g({\\bf{x}}_{l}\\rightarrow{\\bf{x}}_{l+1})=\\frac{1}{N}$, $\\forall\\,{\\bf{x}}_{l},{\\bf{x}}_{l+1}$, and\n",
    "\n",
    "$$\n",
    "\\frac{T({\\bf{x}}_{l}\\rightarrow{\\bf{x}}_{l+1})}{T({\\bf{x}}_{l+1}\\rightarrow{\\bf{x}}_{l})}=\\frac{\\frac{1}{N}A({\\bf{x}}_{l}\\rightarrow{\\bf{x}}_{l+1})}{\\frac{1}{N}A({\\bf{x}}_{l+1}\\rightarrow{\\bf{x}}_{l})}=\\frac{P({\\bf{x}}_{l+1})}{P({\\bf{x}}_{l})},\n",
    "$$\n",
    "\n",
    "suggesting \n",
    "\n",
    "$$\n",
    "\\frac{A({\\bf{x}}_{l}\\rightarrow{\\bf{x}}_{l+1})}{A({\\bf{x}}_{l+1}\\rightarrow{\\bf{x}}_{l})}=e^{-\\beta(E_{l+1}-E_{l})},\n",
    "$$\n",
    "\n",
    "for $P$ given as a Boltzmann distribution, where $\\beta=\\frac{1}{T}$, of course.\n",
    "\n",
    "For $E_{l}<E_{l+1}$, we thus choose ${A({\\bf{x}}_{l+1}\\rightarrow{\\bf{x}}_{l})}=1$ such that $A({\\bf{x}}_{l}\\rightarrow{\\bf{x}}_{l+1})=e^{-\\beta(E_{l+1}-E_{l})}$, and the metropolis algorithm will thus flip a single spin (i.e. update the spin configuration of the lattice) whenever $(E_{l+1}-E_{l})\\leq0$ or $e^{-\\beta(E_{l+1}-E_{l})}>r$, for some random $0\\leq r<1$. "
   ]
  },
  {
   "cell_type": "code",
   "execution_count": 10,
   "metadata": {},
   "outputs": [],
   "source": [
    "### Function to perform one Monte Carlo sweep ###\n",
    "def sweep():\n",
    "  #do one sweep (N_spins single-spin flips):\n",
    "  for i in range(N_spins):\n",
    "    #randomly choose which spin to consider flipping:\n",
    "    site = random.randint(0,N_spins-1)\n",
    "    \n",
    "    #calculate the change in energy for the proposed move:\n",
    "    E_init = getEnergy()\n",
    "    spins[site] = -spins[site] #flip the spin before calculating E_final\n",
    "    E_final = getEnergy()\n",
    "    spins[site] = -spins[site] #flip the spin back since we might not accept the move\n",
    "    deltaE = E_final - E_init\n",
    "\n",
    "    if (deltaE <= 0) or (random.random() < np.exp(-deltaE/T)):  #Metropolis algorithm\n",
    "      #flip the spin:\n",
    "      spins[site] = -spins[site]\n",
    "  #end loop over i\n",
    "#end of sweep() function\n"
   ]
  },
  {
   "cell_type": "markdown",
   "metadata": {},
   "source": [
    "Loop over a series of temperatures $T$ while performing Monte Carlo updates. Calculates Energy and Magnetization for each new configuration in the equilibration sweep and stores these results to an external file in the local directory created earlier. Code can be adjusted to store spin configurations instead of each configuration's Energy  and Magnetization, as would be done to produce training data that is later fed to the RBM notebook. Option to print a graphic depicting the current spin configuration is available but has been commented out in order to speed up the caluclation process."
   ]
  },
  {
   "cell_type": "code",
   "execution_count": 11,
   "metadata": {
    "scrolled": true
   },
   "outputs": [
    {
     "name": "stderr",
     "output_type": "stream",
     "text": [
      "/Users/complexphenom/anaconda3/envs/8805-env/lib/python3.7/site-packages/ipykernel_launcher.py:4: DeprecationWarning: time.clock has been deprecated in Python 3.3 and will be removed from Python 3.8: use time.perf_counter or time.process_time instead\n",
      "  after removing the cwd from sys.path.\n"
     ]
    },
    {
     "name": "stdout",
     "output_type": "stream",
     "text": [
      "\n",
      "T = 5.000000\n",
      "  1000 sweeps complete\n",
      "  2000 sweeps complete\n",
      "  3000 sweeps complete\n",
      "  4000 sweeps complete\n",
      "  5000 sweeps complete\n",
      "  6000 sweeps complete\n",
      "  7000 sweeps complete\n",
      "  8000 sweeps complete\n",
      "  9000 sweeps complete\n",
      "  10000 sweeps complete\n",
      "\n",
      "T = 4.500000\n",
      "  1000 sweeps complete\n",
      "  2000 sweeps complete\n",
      "  3000 sweeps complete\n",
      "  4000 sweeps complete\n",
      "  5000 sweeps complete\n",
      "  6000 sweeps complete\n",
      "  7000 sweeps complete\n",
      "  8000 sweeps complete\n",
      "  9000 sweeps complete\n",
      "  10000 sweeps complete\n",
      "\n",
      "T = 4.000000\n",
      "  1000 sweeps complete\n",
      "  2000 sweeps complete\n",
      "  3000 sweeps complete\n",
      "  4000 sweeps complete\n",
      "  5000 sweeps complete\n",
      "  6000 sweeps complete\n",
      "  7000 sweeps complete\n",
      "  8000 sweeps complete\n",
      "  9000 sweeps complete\n",
      "  10000 sweeps complete\n",
      "\n",
      "T = 3.500000\n",
      "  1000 sweeps complete\n",
      "  2000 sweeps complete\n",
      "  3000 sweeps complete\n",
      "  4000 sweeps complete\n",
      "  5000 sweeps complete\n",
      "  6000 sweeps complete\n",
      "  7000 sweeps complete\n",
      "  8000 sweeps complete\n",
      "  9000 sweeps complete\n",
      "  10000 sweeps complete\n",
      "\n",
      "T = 3.000000\n",
      "  1000 sweeps complete\n",
      "  2000 sweeps complete\n",
      "  3000 sweeps complete\n",
      "  4000 sweeps complete\n",
      "  5000 sweeps complete\n",
      "  6000 sweeps complete\n",
      "  7000 sweeps complete\n",
      "  8000 sweeps complete\n",
      "  9000 sweeps complete\n",
      "  10000 sweeps complete\n",
      "\n",
      "T = 2.500000\n",
      "  1000 sweeps complete\n",
      "  2000 sweeps complete\n",
      "  3000 sweeps complete\n",
      "  4000 sweeps complete\n",
      "  5000 sweeps complete\n",
      "  6000 sweeps complete\n",
      "  7000 sweeps complete\n",
      "  8000 sweeps complete\n",
      "  9000 sweeps complete\n",
      "  10000 sweeps complete\n",
      "\n",
      "T = 2.000000\n",
      "  1000 sweeps complete\n",
      "  2000 sweeps complete\n",
      "  3000 sweeps complete\n",
      "  4000 sweeps complete\n",
      "  5000 sweeps complete\n",
      "  6000 sweeps complete\n",
      "  7000 sweeps complete\n",
      "  8000 sweeps complete\n",
      "  9000 sweeps complete\n",
      "  10000 sweeps complete\n",
      "\n",
      "T = 1.500000\n",
      "  1000 sweeps complete\n",
      "  2000 sweeps complete\n",
      "  3000 sweeps complete\n",
      "  4000 sweeps complete\n",
      "  5000 sweeps complete\n",
      "  6000 sweeps complete\n",
      "  7000 sweeps complete\n",
      "  8000 sweeps complete\n",
      "  9000 sweeps complete\n",
      "  10000 sweeps complete\n",
      "\n",
      "T = 1.000000\n",
      "  1000 sweeps complete\n",
      "  2000 sweeps complete\n",
      "  3000 sweeps complete\n",
      "  4000 sweeps complete\n",
      "  5000 sweeps complete\n",
      "  6000 sweeps complete\n",
      "  7000 sweeps complete\n",
      "  8000 sweeps complete\n",
      "  9000 sweeps complete\n",
      "  10000 sweeps complete\n",
      "\n",
      "T = 0.500000\n",
      "  1000 sweeps complete\n",
      "  2000 sweeps complete\n",
      "  3000 sweeps complete\n",
      "  4000 sweeps complete\n",
      "  5000 sweeps complete\n",
      "  6000 sweeps complete\n",
      "  7000 sweeps complete\n",
      "  8000 sweeps complete\n",
      "  9000 sweeps complete\n",
      "  10000 sweeps complete\n",
      "Elapsed time: 102.795996 seconds\n"
     ]
    },
    {
     "name": "stderr",
     "output_type": "stream",
     "text": [
      "/Users/complexphenom/anaconda3/envs/8805-env/lib/python3.7/site-packages/ipykernel_launcher.py:42: DeprecationWarning: time.clock has been deprecated in Python 3.3 and will be removed from Python 3.8: use time.perf_counter or time.process_time instead\n"
     ]
    }
   ],
   "source": [
    "#################################################################################\n",
    "########## Loop over all temperatures and perform Monte Carlo updates: ##########\n",
    "#################################################################################\n",
    "t1 = time.clock() #for timing\n",
    "for T in T_list:\n",
    "    print('\\nT = %f' %T)\n",
    "  \n",
    "  #open a file where observables will be recorded:\n",
    "    fileName         = '%s/ising2d_L%d_T%.4f.txt' %(results_dir,L,T)\n",
    "    file_observables = open(fileName, 'w')\n",
    "  \n",
    "  #equilibration sweeps:\n",
    "    for i in range(n_eqSweeps):\n",
    "        sweep()\n",
    "\n",
    "    #start doing measurements:\n",
    "    for i in range(n_measSweeps):\n",
    "        sweep()\n",
    "\n",
    "        #Write the observables to file:\n",
    "        energy = getEnergy()\n",
    "        mag    = getMag()\n",
    "        file_observables.write('%d \\t %.8f \\t %.8f \\n' %(i, energy, mag))\n",
    "\n",
    "#         if animate:\n",
    "#             #Display the current spin configuration:\n",
    "#             plt.clf()\n",
    "#             plt.imshow( spins.reshape((L,L)), cmap=bw_cmap, norm=colors.BoundaryNorm([-1,0,1], bw_cmap.N), interpolation='nearest' )\n",
    "#             plt.xticks([])\n",
    "#             plt.yticks([])\n",
    "#             plt.title('%d x %d Ising model, T = %.3f' %(L,L,T))\n",
    "#             plt.pause(0.01)\n",
    "#             #end if\n",
    "\n",
    "        if (i+1)%1000==0:\n",
    "            print('  %d sweeps complete' %(i+1))\n",
    "        #end loop over i\n",
    "\n",
    "    file_observables.close()\n",
    "    #end loop over temperature\n",
    "    \n",
    "t2 = time.clock()\n",
    "print('Elapsed time: %f seconds' %(t2-t1))"
   ]
  },
  {
   "cell_type": "markdown",
   "metadata": {},
   "source": [
    "## Plot Observables from MC"
   ]
  },
  {
   "cell_type": "code",
   "execution_count": 12,
   "metadata": {},
   "outputs": [],
   "source": [
    "### Observables to plot as a function of temperature: ###\n",
    "energy   = np.zeros(len(T_list))\n",
    "mag      = np.zeros(len(T_list))\n",
    "specHeat = np.zeros(len(T_list))\n",
    "susc     = np.zeros(len(T_list))"
   ]
  },
  {
   "cell_type": "markdown",
   "metadata": {},
   "source": [
    "We import the set of Energies and Magnetizations calculated above for every sweep at given $T$'s and obtain the mean Energy and mean Magnetization for thease. Because there is no spontaneous symmetry breaking for finite sized lattices ($\\langle M\\rangle=0,\\,\\forall\\,T$), we instead use $\\langle |M|\\rangle$ in our calculation of $\\chi$\n",
    "\n",
    "$$\n",
    "C_{V}=\\frac{\\langle E^{2}\\rangle-\\langle E\\rangle^{2}}{T^{2}},\\qquad \\chi=\\frac{\\langle M^{2}\\rangle-\\langle |M|\\rangle^{2}}{T}.\n",
    "$$"
   ]
  },
  {
   "cell_type": "code",
   "execution_count": 13,
   "metadata": {},
   "outputs": [],
   "source": [
    "### Loop to read in data for each temperature: ###\n",
    "for (iT,T) in enumerate(T_list):\n",
    "    file = open('Data/ising2d_L%d_T%.4f.txt' %(L,T), 'r')\n",
    "    data = np.loadtxt( file )\n",
    "\n",
    "    E   = data[:,1]\n",
    "    M   = abs(data[:,2])\n",
    "\n",
    "    energy[iT] = np.mean(E)\n",
    "    mag[iT]    = np.mean(M)\n",
    "    \n",
    "    specHeat[iT] = (np.mean(E**2)-np.mean(E)**2)/T**2\n",
    "    susc[iT]     = (np.mean(M**2)-np.mean(M)**2)/T\n",
    "    #end loop over T\n"
   ]
  },
  {
   "cell_type": "code",
   "execution_count": 14,
   "metadata": {
    "scrolled": false
   },
   "outputs": [
    {
     "data": {
      "image/png": "[encoded data removed]",
      "text/plain": [
       "<Figure size 576x432 with 4 Axes>"
      ]
     },
     "metadata": {
      "needs_background": "light"
     },
     "output_type": "display_data"
    }
   ],
   "source": [
    "plt.figure(figsize=(8,6))\n",
    "\n",
    "plt.subplot(221)\n",
    "plt.axvline(x=Tc, color='k', linestyle='--')\n",
    "plt.plot(T_list, energy/(1.0*N_spins), 'o-')\n",
    "plt.xlabel('$T$')\n",
    "plt.ylabel('$<E>/N$')\n",
    "\n",
    "plt.subplot(222)\n",
    "plt.axvline(x=Tc, color='k', linestyle='--')\n",
    "plt.plot(T_list, mag/(1.0*N_spins), 'o-')\n",
    "plt.xlabel('$T$')\n",
    "plt.ylabel('$<|M|>/N$')\n",
    "\n",
    "plt.subplot(223)\n",
    "plt.axvline(x=Tc, color='k', linestyle='--')\n",
    "plt.plot(T_list, specHeat/(1.0*N_spins), 'o-')\n",
    "plt.xlabel('$T$')\n",
    "plt.ylabel('$C_V/N$')\n",
    "\n",
    "plt.subplot(224)\n",
    "plt.axvline(x=Tc, color='k', linestyle='--')\n",
    "plt.plot(T_list, susc/(1.0*N_spins), 'o-')\n",
    "plt.xlabel('$T$')\n",
    "plt.ylabel('$\\chi/N$')\n",
    "\n",
    "plt.suptitle('%d x %d Ising model' %(L,L))\n",
    "\n",
    "plt.show()\n"
   ]
  },
  {
   "cell_type": "markdown",
   "metadata": {},
   "source": [
    "In the thermodynamic limit, we expect $C_{V}/N$ and $\\chi/N$ to diverge at the critical temperature $T_{C}\\approx2.269$. On a finite size lattice, however, these will appear as peaks near $T_{C}$."
   ]
  },
  {
   "cell_type": "markdown",
   "metadata": {},
   "source": [
    "The code parameters can be adjusted to obtain additional data for larger system sizes $L$ at a larger range of temperatures $T$, as can the MC parameters (e.g. number of thermalization and measurement sweeps) to generate better or worse numerical results."
   ]
  },
  {
   "cell_type": "code",
   "execution_count": null,
   "metadata": {},
   "outputs": [],
   "source": []
  }
 ],
 "metadata": {
  "celltoolbar": "Slideshow",
  "kernelspec": {
   "display_name": "Python 3",
   "language": "python",
   "name": "python3"
  },
  "language_info": {
   "codemirror_mode": {
    "name": "ipython",
    "version": 3
   },
   "file_extension": ".py",
   "mimetype": "text/x-python",
   "name": "python",
   "nbconvert_exporter": "python",
   "pygments_lexer": "ipython3",
   "version": "3.7.5"
  }
 },
 "nbformat": 4,
 "nbformat_minor": 1
}
